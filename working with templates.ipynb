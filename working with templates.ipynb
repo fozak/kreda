{
 "cells": [
  {
   "cell_type": "code",
   "execution_count": 10,
   "id": "cec35a7a-d6ff-4596-a0bc-854d35ecc19c",
   "metadata": {},
   "outputs": [
    {
     "name": "stdout",
     "output_type": "stream",
     "text": [
      "finished\n"
     ]
    }
   ],
   "source": [
    "# 📦 Import required library\n",
    "from bs4 import BeautifulSoup\n",
    "\n",
    "# 🛠️ Define the reusable replacement function\n",
    "def replace_element_by_id(html_path, replacements):\n",
    "    \"\"\"\n",
    "    Replaces elements in an HTML file based on ID with content from other files.\n",
    "    :param html_path: Path to the main HTML file.\n",
    "    :param replacements: Dict of {id: replacement_html_path}\n",
    "    :return: Modified BeautifulSoup object\n",
    "    \"\"\"\n",
    "    with open(html_path, \"r\", encoding=\"utf-8\") as f:\n",
    "        soup = BeautifulSoup(f, \"html.parser\")\n",
    "    \n",
    "    for element_id, replacement_path in replacements.items():\n",
    "        target = soup.find(id=element_id)\n",
    "        if target:\n",
    "            with open(replacement_path, \"r\", encoding=\"utf-8\") as rep:\n",
    "                new_content = BeautifulSoup(rep.read(), \"html.parser\")\n",
    "                target.replace_with(new_content)\n",
    "        else:\n",
    "            print(f\"[!] Element with id '{element_id}' not found in {html_path}\")\n",
    "    \n",
    "    return soup\n",
    "\n",
    "# 🛠️ Replace first element by tag\n",
    "def replace_element_by_tag(soup, tag_name, replacement_path):\n",
    "    target = soup.find(tag_name)\n",
    "    if target:\n",
    "        with open(replacement_path, \"r\", encoding=\"utf-8\") as rep:\n",
    "            new_content = BeautifulSoup(rep.read(), \"html.parser\")\n",
    "            target.replace_with(new_content)\n",
    "    else:\n",
    "        print(f\"[!] Tag <{tag_name}> not found.\")\n",
    "    return soup\n",
    "\n",
    "# 🚀 Run the replacement\n",
    "soup = replace_element_by_id(\"wiki.html\", {\n",
    "    \"frappe-symbols\": \"templates/svg-cw-icons.html\",\n",
    "    #\"footer\": \"footer.html\"\n",
    "})\n",
    "soup = replace_element_by_tag(soup, \"nav\", \"templates/nav.html\")\n",
    "\n",
    "# 💾 Save the output\n",
    "with open(\"changed.html\", \"w\", encoding=\"utf-8\") as f:\n",
    "    f.write(str(soup))  # Changed 'result' to 'soup' here\n",
    "\n",
    "# ✅ Show the final output\n",
    "print('finished now')"
   ]
  },
  {
   "cell_type": "code",
   "execution_count": 12,
   "id": "116cc508-5b7e-4109-bad4-a466246f7267",
   "metadata": {},
   "outputs": [],
   "source": [
    "from bs4 import BeautifulSoup\n",
    "\n",
    "with open(r'migration\\icons.html', 'r', encoding='utf-8') as f:\n",
    "    html = f.read()\n",
    "\n",
    "soup = BeautifulSoup(html, 'html.parser')\n",
    "\n",
    "for container in soup.find_all(\"div\", class_=\"icon-container\"):\n",
    "    # Extract elements\n",
    "    bg = container.find(\"div\", class_=\"background-circle\")\n",
    "    outer = container.find(\"div\", class_=\"icon-wrapper outer\")\n",
    "    inner = container.find(\"div\", class_=\"icon-wrapper inner\")\n",
    "    label = container.find(\"div\", class_=\"icon-label\")\n",
    "\n",
    "    # Create new wrapper for visuals\n",
    "    visual = soup.new_tag(\"div\", **{\"class\": \"icon-visual\"})\n",
    "    for el in [bg, outer, inner]:\n",
    "        if el:\n",
    "            visual.append(el.extract())\n",
    "\n",
    "    # Clear and rebuild container\n",
    "    container.clear()\n",
    "    container.append(visual)\n",
    "    if label:\n",
    "        container.append(label.extract())\n",
    "\n",
    "with open(r'migration\\icons_reordered.html', 'w', encoding='utf-8') as f:\n",
    "    f.write(str(soup.prettify()))\n"
   ]
  },
  {
   "cell_type": "code",
   "execution_count": null,
   "id": "fac67c42-06d5-4775-ab88-3ee1f9ab6246",
   "metadata": {},
   "outputs": [],
   "source": []
  }
 ],
 "metadata": {
  "kernelspec": {
   "display_name": "Python 3 (ipykernel)",
   "language": "python",
   "name": "python3"
  },
  "language_info": {
   "codemirror_mode": {
    "name": "ipython",
    "version": 3
   },
   "file_extension": ".py",
   "mimetype": "text/x-python",
   "name": "python",
   "nbconvert_exporter": "python",
   "pygments_lexer": "ipython3",
   "version": "3.12.7"
  }
 },
 "nbformat": 4,
 "nbformat_minor": 5
}
