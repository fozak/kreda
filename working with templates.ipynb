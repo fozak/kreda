{
 "cells": [
  {
   "cell_type": "code",
   "execution_count": 6,
   "id": "bf4df517-caca-4bba-bc8d-4f4e1823bb72",
   "metadata": {
    "scrolled": true
   },
   "outputs": [
    {
     "name": "stdout",
     "output_type": "stream",
     "text": [
      "finished\n"
     ]
    }
   ],
   "source": [
    "# 📦 Import required library\n",
    "from bs4 import BeautifulSoup\n",
    "\n",
    "# 🛠️ Define the reusable replacement function\n",
    "def replace_element_by_id(html_path, replacements):\n",
    "    \"\"\"\n",
    "    Replaces elements in an HTML file based on ID with content from other files.\n",
    "\n",
    "    :param html_path: Path to the main HTML file.\n",
    "    :param replacements: Dict of {id: replacement_html_path}\n",
    "    :return: Modified BeautifulSoup object\n",
    "    \"\"\"\n",
    "    with open(html_path, \"r\", encoding=\"utf-8\") as f:\n",
    "        soup = BeautifulSoup(f, \"html.parser\")\n",
    "    \n",
    "    for element_id, replacement_path in replacements.items():\n",
    "        target = soup.find(id=element_id)\n",
    "        if target:\n",
    "            with open(replacement_path, \"r\", encoding=\"utf-8\") as rep:\n",
    "                new_content = BeautifulSoup(rep.read(), \"html.parser\")\n",
    "                target.replace_with(new_content)\n",
    "        else:\n",
    "            print(f\"[!] Element with id '{element_id}' not found in {html_path}\")\n",
    "    \n",
    "    return soup\n",
    "\n",
    "\n",
    "# 🛠️ Replace first element by tag\n",
    "def replace_element_by_tag(soup, tag_name, replacement_path):\n",
    "    target = soup.find(tag_name)\n",
    "    if target:\n",
    "        with open(replacement_path, \"r\", encoding=\"utf-8\") as rep:\n",
    "            new_content = BeautifulSoup(rep.read(), \"html.parser\")\n",
    "            target.replace_with(new_content)\n",
    "    else:\n",
    "        print(f\"[!] Tag <{tag_name}> not found.\")\n",
    "    return soup\n",
    "\n",
    "\n",
    "\n",
    "# 🚀 Run the replacement\n",
    "soup = replace_element_by_id(\"template.html\", {\n",
    "    \"frappe-symbols\": \"templates/svg-cw-icons.html\",\n",
    "    #\"footer\": \"footer.html\"\n",
    "})\n",
    "\n",
    "soup = replace_element_by_tag(soup, \"nav\", \"templates/nav.html\")\n",
    "\n",
    "# 💾 Save the output\n",
    "with open(\"changed.html\", \"w\", encoding=\"utf-8\") as f:\n",
    "    f.write(str(result))\n",
    "\n",
    "# ✅ Show the final output\n",
    "print('finished')\n",
    "\n"
   ]
  },
  {
   "cell_type": "code",
   "execution_count": null,
   "id": "cec35a7a-d6ff-4596-a0bc-854d35ecc19c",
   "metadata": {},
   "outputs": [],
   "source": []
  }
 ],
 "metadata": {
  "kernelspec": {
   "display_name": "Python 3 (ipykernel)",
   "language": "python",
   "name": "python3"
  },
  "language_info": {
   "codemirror_mode": {
    "name": "ipython",
    "version": 3
   },
   "file_extension": ".py",
   "mimetype": "text/x-python",
   "name": "python",
   "nbconvert_exporter": "python",
   "pygments_lexer": "ipython3",
   "version": "3.12.7"
  }
 },
 "nbformat": 4,
 "nbformat_minor": 5
}
