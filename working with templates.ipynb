{
 "cells": [
  {
   "cell_type": "code",
   "execution_count": 10,
   "id": "cec35a7a-d6ff-4596-a0bc-854d35ecc19c",
   "metadata": {},
   "outputs": [
    {
     "name": "stdout",
     "output_type": "stream",
     "text": [
      "finished\n"
     ]
    }
   ],
   "source": [
    "# 📦 Import required library\n",
    "from bs4 import BeautifulSoup\n",
    "\n",
    "# 🛠️ Define the reusable replacement function\n",
    "def replace_element_by_id(html_path, replacements):\n",
    "    \"\"\"\n",
    "    Replaces elements in an HTML file based on ID with content from other files.\n",
    "    :param html_path: Path to the main HTML file.\n",
    "    :param replacements: Dict of {id: replacement_html_path}\n",
    "    :return: Modified BeautifulSoup object\n",
    "    \"\"\"\n",
    "    with open(html_path, \"r\", encoding=\"utf-8\") as f:\n",
    "        soup = BeautifulSoup(f, \"html.parser\")\n",
    "    \n",
    "    for element_id, replacement_path in replacements.items():\n",
    "        target = soup.find(id=element_id)\n",
    "        if target:\n",
    "            with open(replacement_path, \"r\", encoding=\"utf-8\") as rep:\n",
    "                new_content = BeautifulSoup(rep.read(), \"html.parser\")\n",
    "                target.replace_with(new_content)\n",
    "        else:\n",
    "            print(f\"[!] Element with id '{element_id}' not found in {html_path}\")\n",
    "    \n",
    "    return soup\n",
    "\n",
    "# 🛠️ Replace first element by tag\n",
    "def replace_element_by_tag(soup, tag_name, replacement_path):\n",
    "    target = soup.find(tag_name)\n",
    "    if target:\n",
    "        with open(replacement_path, \"r\", encoding=\"utf-8\") as rep:\n",
    "            new_content = BeautifulSoup(rep.read(), \"html.parser\")\n",
    "            target.replace_with(new_content)\n",
    "    else:\n",
    "        print(f\"[!] Tag <{tag_name}> not found.\")\n",
    "    return soup\n",
    "\n",
    "# 🚀 Run the replacement\n",
    "soup = replace_element_by_id(\"wiki.html\", {\n",
    "    \"frappe-symbols\": \"templates/svg-cw-icons.html\",\n",
    "    #\"footer\": \"footer.html\"\n",
    "})\n",
    "soup = replace_element_by_tag(soup, \"nav\", \"templates/nav.html\")\n",
    "\n",
    "# 💾 Save the output\n",
    "with open(\"changed.html\", \"w\", encoding=\"utf-8\") as f:\n",
    "    f.write(str(soup))  # Changed 'result' to 'soup' here\n",
    "\n",
    "# ✅ Show the final output\n",
    "print('finished now')"
   ]
  },
  {
   "cell_type": "code",
   "execution_count": 12,
   "id": "116cc508-5b7e-4109-bad4-a466246f7267",
   "metadata": {},
   "outputs": [],
   "source": [
    "from bs4 import BeautifulSoup\n",
    "\n",
    "with open(r'migration\\icons.html', 'r', encoding='utf-8') as f:\n",
    "    html = f.read()\n",
    "\n",
    "soup = BeautifulSoup(html, 'html.parser')\n",
    "\n",
    "for container in soup.find_all(\"div\", class_=\"icon-container\"):\n",
    "    # Extract elements\n",
    "    bg = container.find(\"div\", class_=\"background-circle\")\n",
    "    outer = container.find(\"div\", class_=\"icon-wrapper outer\")\n",
    "    inner = container.find(\"div\", class_=\"icon-wrapper inner\")\n",
    "    label = container.find(\"div\", class_=\"icon-label\")\n",
    "\n",
    "    # Create new wrapper for visuals\n",
    "    visual = soup.new_tag(\"div\", **{\"class\": \"icon-visual\"})\n",
    "    for el in [bg, outer, inner]:\n",
    "        if el:\n",
    "            visual.append(el.extract())\n",
    "\n",
    "    # Clear and rebuild container\n",
    "    container.clear()\n",
    "    container.append(visual)\n",
    "    if label:\n",
    "        container.append(label.extract())\n",
    "\n",
    "with open(r'migration\\icons_reordered.html', 'w', encoding='utf-8') as f:\n",
    "    f.write(str(soup.prettify()))\n"
   ]
  },
  {
   "cell_type": "code",
   "execution_count": 14,
   "id": "fac67c42-06d5-4775-ab88-3ee1f9ab6246",
   "metadata": {},
   "outputs": [],
   "source": [
    "#adding coworker 365\n",
    "from bs4 import BeautifulSoup\n",
    "\n",
    "# Load your HTML\n",
    "with open(r'migration\\icons_reordered.html', 'r', encoding='utf-8') as f:\n",
    "    html = f.read()\n",
    "\n",
    "soup = BeautifulSoup(html, 'html.parser')\n",
    "\n",
    "# Iterate through each .icon-container\n",
    "for container in soup.find_all(\"div\", class_=\"icon-container\"):\n",
    "    label = container.find(\"div\", class_=\"icon-label\")\n",
    "\n",
    "    # Only insert if label exists\n",
    "    if label:\n",
    "        # Create the new div\n",
    "        coworker_font_div = soup.new_tag(\"div\", **{\"class\": \"coworker-icon-font\"})\n",
    "        coworker_font_div.string = \"Coworker 365\"\n",
    "\n",
    "        # Insert it right before .icon-label\n",
    "        label.insert_before(coworker_font_div)\n",
    "\n",
    "# Write updated HTML to file\n",
    "with open(r'migration\\icons_updated2.html', 'w', encoding='utf-8') as f:\n",
    "    f.write(str(soup.prettify()))\n"
   ]
  },
  {
   "cell_type": "code",
   "execution_count": 15,
   "id": "b747232d-ed9b-49e5-957a-e5a48a488fd5",
   "metadata": {},
   "outputs": [
    {
     "name": "stdout",
     "output_type": "stream",
     "text": [
      "HTML rearranged successfully.\n"
     ]
    }
   ],
   "source": [
    "from bs4 import BeautifulSoup\n",
    "\n",
    "# Open the HTML file to read\n",
    "html_file_path = \"migration/icons_updated3.html\"\n",
    "\n",
    "# Read the content of the HTML file\n",
    "with open(html_file_path, 'r') as file:\n",
    "    html_content = file.read()\n",
    "\n",
    "# Parse the HTML content using BeautifulSoup\n",
    "soup = BeautifulSoup(html_content, 'html.parser')\n",
    "\n",
    "# Find all icon containers\n",
    "icon_containers = soup.find_all('div', class_='icon-container')\n",
    "\n",
    "# Rearrange each icon container\n",
    "for container in icon_containers:\n",
    "    # Find the icon visual part\n",
    "    icon_visual = container.find('div', class_='icon-visual')\n",
    "    \n",
    "    # Find the labels part (coworker-icon-font and icon-label)\n",
    "    labels = container.find_all('div', class_='coworker-icon-font') + container.find_all('div', class_='icon-label')\n",
    "    \n",
    "    # Create a new div to hold the labels and set the correct class\n",
    "    label_container = soup.new_tag('div', **{'class': 'icon-labels'})\n",
    "    \n",
    "    # Append the labels to the new container in the correct order\n",
    "    for label in labels:\n",
    "        label_container.append(label.extract())\n",
    "\n",
    "    # Add the new label container after the icon visual\n",
    "    container.append(label_container)\n",
    "\n",
    "# Write the rearranged HTML back to the file\n",
    "with open(html_file_path, 'w') as file:\n",
    "    file.write(str(soup))\n",
    "\n",
    "print(\"HTML rearranged successfully.\")\n"
   ]
  },
  {
   "cell_type": "code",
   "execution_count": 18,
   "id": "f65d188d-6861-462f-9e7e-b9632af2dcee",
   "metadata": {},
   "outputs": [
    {
     "name": "stdout",
     "output_type": "stream",
     "text": [
      "Text inside <div> elements has been converted to uppercase in migration/icons_updated3.html.\n"
     ]
    }
   ],
   "source": [
    "from bs4 import BeautifulSoup\n",
    "\n",
    "# Path to your HTML file\n",
    "html_file_path = \"migration/icons_updated3.html\"\n",
    "\n",
    "# Read the HTML content from the file\n",
    "with open(html_file_path, \"r\", encoding=\"utf-8\") as file:\n",
    "    html_content = file.read()\n",
    "\n",
    "# Parse the HTML content using BeautifulSoup\n",
    "soup = BeautifulSoup(html_content, 'html.parser')\n",
    "\n",
    "# Find all div elements with the class \"coworker-icon-font\" and \"icon-label\"\n",
    "for div in soup.find_all('div', class_='coworker-icon-font'):\n",
    "    div.string = div.text.upper()  # Convert text to uppercase\n",
    "\n",
    "for div in soup.find_all('div', class_='icon-label'):\n",
    "    div.string = div.text.upper()  # Convert text to uppercase\n",
    "\n",
    "# Save the modified HTML back to the file\n",
    "with open(html_file_path, \"w\", encoding=\"utf-8\") as file:\n",
    "    file.write(str(soup))\n",
    "\n",
    "print(f\"Text inside <div> elements has been converted to uppercase in {html_file_path}.\")\n"
   ]
  },
  {
   "cell_type": "code",
   "execution_count": null,
   "id": "97109f1c-7f54-4528-a152-dbcef7cd92f1",
   "metadata": {},
   "outputs": [],
   "source": []
  }
 ],
 "metadata": {
  "kernelspec": {
   "display_name": "Python 3 (ipykernel)",
   "language": "python",
   "name": "python3"
  },
  "language_info": {
   "codemirror_mode": {
    "name": "ipython",
    "version": 3
   },
   "file_extension": ".py",
   "mimetype": "text/x-python",
   "name": "python",
   "nbconvert_exporter": "python",
   "pygments_lexer": "ipython3",
   "version": "3.12.7"
  }
 },
 "nbformat": 4,
 "nbformat_minor": 5
}
